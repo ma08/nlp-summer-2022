{
 "cells": [
  {
   "cell_type": "code",
   "execution_count": null,
   "id": "ec52f749",
   "metadata": {},
   "outputs": [],
   "source": [
    "!pip install gdown"
   ]
  },
  {
   "cell_type": "code",
   "execution_count": 27,
   "id": "a40fe153",
   "metadata": {
    "scrolled": true
   },
   "outputs": [
    {
     "name": "stdout",
     "output_type": "stream",
     "text": [
      "/opt/conda/lib/python3.7/site-packages/gdown/cli.py:131: FutureWarning: Option `--id` was deprecated in version 4.3.1 and will be removed in 5.0. You don't need to pass it anymore to use a file ID.\n",
      "  category=FutureWarning,\n",
      "Downloading...\n",
      "From: https://drive.google.com/uc?id=0B7XkCwpI5KDYNlNUTTlSS21pQmM\n",
      "To: /home/sourya4/nlp-summer-2022/assignment_4/GoogleNews-vectors-negative300.bin.gz\n",
      "100%|███████████████████████████████████████| 1.65G/1.65G [00:08<00:00, 184MB/s]\n"
     ]
    }
   ],
   "source": [
    "!gdown --id 0B7XkCwpI5KDYNlNUTTlSS21pQmM"
   ]
  },
  {
   "cell_type": "code",
   "execution_count": 1,
   "id": "a8f507d3",
   "metadata": {},
   "outputs": [
    {
     "name": "stdout",
     "output_type": "stream",
     "text": [
      "Collecting nltk\n",
      "  Downloading nltk-3.7-py3-none-any.whl (1.5 MB)\n",
      "\u001b[2K     \u001b[90m━━━━━━━━━━━━━━━━━━━━━━━━━━━━━━━━━━━━━━━━\u001b[0m \u001b[32m1.5/1.5 MB\u001b[0m \u001b[31m19.2 MB/s\u001b[0m eta \u001b[36m0:00:00\u001b[0m00:01\u001b[0m0:01\u001b[0m\n",
      "\u001b[?25hRequirement already satisfied: tqdm in /opt/conda/lib/python3.7/site-packages (from nltk) (4.63.0)\n",
      "Requirement already satisfied: joblib in /opt/conda/lib/python3.7/site-packages (from nltk) (1.0.1)\n",
      "Collecting regex>=2021.8.3\n",
      "  Downloading regex-2022.7.25-cp37-cp37m-manylinux_2_17_x86_64.manylinux2014_x86_64.whl (751 kB)\n",
      "\u001b[2K     \u001b[90m━━━━━━━━━━━━━━━━━━━━━━━━━━━━━━━━━━━━━━\u001b[0m \u001b[32m752.0/752.0 KB\u001b[0m \u001b[31m51.7 MB/s\u001b[0m eta \u001b[36m0:00:00\u001b[0m\n",
      "\u001b[?25hRequirement already satisfied: click in /opt/conda/lib/python3.7/site-packages (from nltk) (8.0.4)\n",
      "Requirement already satisfied: importlib-metadata in /opt/conda/lib/python3.7/site-packages (from click->nltk) (4.11.3)\n",
      "Requirement already satisfied: typing-extensions>=3.6.4 in /opt/conda/lib/python3.7/site-packages (from importlib-metadata->click->nltk) (4.1.1)\n",
      "Requirement already satisfied: zipp>=0.5 in /opt/conda/lib/python3.7/site-packages (from importlib-metadata->click->nltk) (3.7.0)\n",
      "Installing collected packages: regex, nltk\n",
      "Successfully installed nltk-3.7 regex-2022.7.25\n"
     ]
    }
   ],
   "source": [
    "!pip install nltk"
   ]
  },
  {
   "cell_type": "code",
   "execution_count": 1,
   "id": "efaf9ccc",
   "metadata": {},
   "outputs": [],
   "source": [
    "from nltk.corpus import wordnet as wn\n"
   ]
  },
  {
   "cell_type": "code",
   "execution_count": 9,
   "id": "3538fec3",
   "metadata": {},
   "outputs": [
    {
     "name": "stderr",
     "output_type": "stream",
     "text": [
      "[nltk_data] Downloading package wordnet to /home/sourya4/nltk_data...\n",
      "[nltk_data]   Package wordnet is already up-to-date!\n",
      "[nltk_data] Downloading package omw-1.4 to /home/sourya4/nltk_data...\n"
     ]
    },
    {
     "data": {
      "text/plain": [
       "True"
      ]
     },
     "execution_count": 9,
     "metadata": {},
     "output_type": "execute_result"
    }
   ],
   "source": [
    "import nltk\n",
    "nltk.download('wordnet')\n",
    "nltk.download('omw-1.4')\n",
    "\n"
   ]
  },
  {
   "cell_type": "code",
   "execution_count": 3,
   "id": "e6d07ef8",
   "metadata": {},
   "outputs": [
    {
     "data": {
      "text/plain": [
       "[Lemma('interruption.n.02.break'),\n",
       " Lemma('break.n.02.break'),\n",
       " Lemma('fault.n.04.break'),\n",
       " Lemma('rupture.n.02.break'),\n",
       " Lemma('respite.n.02.break'),\n",
       " Lemma('breakage.n.03.break'),\n",
       " Lemma('pause.n.01.break'),\n",
       " Lemma('fracture.n.01.break'),\n",
       " Lemma('break.n.09.break'),\n",
       " Lemma('break.n.10.break'),\n",
       " Lemma('break.n.11.break'),\n",
       " Lemma('break.n.12.break'),\n",
       " Lemma('break.n.13.break'),\n",
       " Lemma('break.n.14.break'),\n",
       " Lemma('open_frame.n.01.break'),\n",
       " Lemma('break.n.16.break')]"
      ]
     },
     "execution_count": 3,
     "metadata": {},
     "output_type": "execute_result"
    }
   ],
   "source": [
    "wn.lemmas('break', pos='n')"
   ]
  },
  {
   "cell_type": "code",
   "execution_count": 11,
   "id": "12fb64cd",
   "metadata": {},
   "outputs": [
    {
     "name": "stdout",
     "output_type": "stream",
     "text": [
      "Collecting gensim\n",
      "  Downloading gensim-4.2.0-cp37-cp37m-manylinux_2_12_x86_64.manylinux2010_x86_64.whl (24.1 MB)\n",
      "\u001b[2K     \u001b[90m━━━━━━━━━━━━━━━━━━━━━━━━━━━━━━━━━━━━━━━━\u001b[0m \u001b[32m24.1/24.1 MB\u001b[0m \u001b[31m47.5 MB/s\u001b[0m eta \u001b[36m0:00:00\u001b[0m00:01\u001b[0m00:01\u001b[0m\n",
      "\u001b[?25hRequirement already satisfied: scipy>=0.18.1 in /opt/conda/lib/python3.7/site-packages (from gensim) (1.7.3)\n",
      "Requirement already satisfied: numpy>=1.17.0 in /opt/conda/lib/python3.7/site-packages (from gensim) (1.21.5)\n",
      "Collecting smart-open>=1.8.1\n",
      "  Downloading smart_open-6.0.0-py3-none-any.whl (58 kB)\n",
      "\u001b[2K     \u001b[90m━━━━━━━━━━━━━━━━━━━━━━━━━━━━━━━━━━━━━━━━\u001b[0m \u001b[32m58.4/58.4 KB\u001b[0m \u001b[31m10.7 MB/s\u001b[0m eta \u001b[36m0:00:00\u001b[0m\n",
      "\u001b[?25hInstalling collected packages: smart-open, gensim\n",
      "Successfully installed gensim-4.2.0 smart-open-6.0.0\n"
     ]
    }
   ],
   "source": [
    "!pip install gensim\n"
   ]
  },
  {
   "cell_type": "code",
   "execution_count": 28,
   "id": "355df757",
   "metadata": {},
   "outputs": [],
   "source": [
    "import gensim\n",
    "model = gensim.models.KeyedVectors.load_word2vec_format('./GoogleNews-vectors-negative300.bin.gz', binary=True) \n"
   ]
  },
  {
   "cell_type": "code",
   "execution_count": 32,
   "id": "1d167551",
   "metadata": {},
   "outputs": [],
   "source": [
    "v1 = model.get_vector('computer')"
   ]
  },
  {
   "cell_type": "code",
   "execution_count": 33,
   "id": "ba7317ea",
   "metadata": {},
   "outputs": [
    {
     "data": {
      "text/plain": [
       "array([ 1.07421875e-01, -2.01171875e-01,  1.23046875e-01,  2.11914062e-01,\n",
       "       -9.13085938e-02,  2.16796875e-01, -1.31835938e-01,  8.30078125e-02,\n",
       "        2.02148438e-01,  4.78515625e-02,  3.66210938e-02, -2.45361328e-02,\n",
       "        2.39257812e-02, -1.60156250e-01, -2.61230469e-02,  9.71679688e-02,\n",
       "       -6.34765625e-02,  1.84570312e-01,  1.70898438e-01, -1.63085938e-01,\n",
       "       -1.09375000e-01,  1.49414062e-01, -4.65393066e-04,  9.61914062e-02,\n",
       "        1.68945312e-01,  2.60925293e-03,  8.93554688e-02,  6.49414062e-02,\n",
       "        3.56445312e-02, -6.93359375e-02, -1.46484375e-01, -1.21093750e-01,\n",
       "       -2.27539062e-01,  2.45361328e-02, -1.24511719e-01, -3.18359375e-01,\n",
       "       -2.20703125e-01,  1.30859375e-01,  3.66210938e-02, -3.63769531e-02,\n",
       "       -1.13281250e-01,  1.95312500e-01,  9.76562500e-02,  1.26953125e-01,\n",
       "        6.59179688e-02,  6.93359375e-02,  1.02539062e-02,  1.75781250e-01,\n",
       "       -1.68945312e-01,  1.21307373e-03, -2.98828125e-01, -1.15234375e-01,\n",
       "        5.66406250e-02, -1.77734375e-01, -2.08984375e-01,  1.76757812e-01,\n",
       "        2.38037109e-02, -2.57812500e-01, -4.46777344e-02,  1.88476562e-01,\n",
       "        5.51757812e-02,  5.02929688e-02, -1.06933594e-01,  1.89453125e-01,\n",
       "       -1.16210938e-01,  8.49609375e-02, -1.71875000e-01,  2.45117188e-01,\n",
       "       -1.73828125e-01, -8.30078125e-03,  4.56542969e-02, -1.61132812e-02,\n",
       "        1.86523438e-01, -6.05468750e-02, -4.17480469e-02,  1.82617188e-01,\n",
       "        2.20703125e-01, -1.22558594e-01, -2.55126953e-02, -3.08593750e-01,\n",
       "        9.13085938e-02,  1.60156250e-01,  1.70898438e-01,  1.19628906e-01,\n",
       "        7.08007812e-02, -2.64892578e-02, -3.08837891e-02,  4.06250000e-01,\n",
       "       -1.01562500e-01,  5.71289062e-02, -7.26318359e-03, -9.17968750e-02,\n",
       "       -1.50390625e-01, -2.55859375e-01,  2.16796875e-01, -3.63769531e-02,\n",
       "        2.24609375e-01,  8.00781250e-02,  1.56250000e-01,  5.27343750e-02,\n",
       "        1.50390625e-01, -1.14746094e-01, -8.64257812e-02,  1.19140625e-01,\n",
       "       -7.17773438e-02,  2.73437500e-01, -1.64062500e-01,  7.29370117e-03,\n",
       "        4.21875000e-01, -1.12792969e-01, -1.35742188e-01, -1.31835938e-01,\n",
       "       -1.37695312e-01, -7.66601562e-02,  6.25000000e-02,  4.98046875e-02,\n",
       "       -1.91406250e-01, -6.03027344e-02,  2.27539062e-01,  5.88378906e-02,\n",
       "       -3.24218750e-01,  5.41992188e-02, -1.35742188e-01,  8.17871094e-03,\n",
       "       -5.24902344e-02, -1.74713135e-03, -9.81445312e-02, -2.86865234e-02,\n",
       "        3.61328125e-02,  2.15820312e-01,  5.98144531e-02, -3.08593750e-01,\n",
       "       -2.27539062e-01,  2.61718750e-01,  9.86328125e-02, -5.07812500e-02,\n",
       "        1.78222656e-02,  1.31835938e-01, -5.35156250e-01, -1.81640625e-01,\n",
       "        1.38671875e-01, -3.10546875e-01, -9.71679688e-02,  1.31835938e-01,\n",
       "       -1.16210938e-01,  7.03125000e-02,  2.85156250e-01,  3.51562500e-02,\n",
       "       -1.01562500e-01, -3.75976562e-02,  1.41601562e-01,  1.42578125e-01,\n",
       "       -5.68847656e-02,  2.65625000e-01, -2.09960938e-01,  9.64355469e-03,\n",
       "       -6.68945312e-02, -4.83398438e-02, -6.10351562e-02,  2.45117188e-01,\n",
       "       -9.66796875e-02,  1.78222656e-02, -1.27929688e-01, -4.78515625e-02,\n",
       "       -7.26318359e-03,  1.79687500e-01,  2.78320312e-02, -2.10937500e-01,\n",
       "       -1.43554688e-01, -1.27929688e-01,  1.73339844e-02, -3.60107422e-03,\n",
       "       -2.04101562e-01,  3.63159180e-03, -1.19628906e-01, -6.15234375e-02,\n",
       "        5.93261719e-02, -3.23486328e-03, -1.70898438e-01, -3.14941406e-02,\n",
       "       -8.88671875e-02, -2.89062500e-01,  3.44238281e-02, -1.87500000e-01,\n",
       "        2.94921875e-01,  1.58203125e-01, -1.19628906e-01,  7.61718750e-02,\n",
       "        6.39648438e-02, -4.68750000e-02, -6.83593750e-02,  1.21459961e-02,\n",
       "       -1.44531250e-01,  4.54101562e-02,  3.68652344e-02,  3.88671875e-01,\n",
       "        1.45507812e-01, -2.55859375e-01, -4.46777344e-02, -1.33789062e-01,\n",
       "       -1.38671875e-01,  6.59179688e-02,  1.37695312e-01,  1.14746094e-01,\n",
       "        2.03125000e-01, -4.78515625e-02,  1.80664062e-02, -8.54492188e-02,\n",
       "       -2.48046875e-01, -3.39843750e-01, -2.83203125e-02,  1.05468750e-01,\n",
       "       -2.14843750e-01, -8.74023438e-02,  7.12890625e-02,  1.87500000e-01,\n",
       "       -1.12304688e-01,  2.73437500e-01, -3.26171875e-01, -1.77734375e-01,\n",
       "       -4.24804688e-02, -2.69531250e-01,  6.64062500e-02, -6.88476562e-02,\n",
       "       -1.99218750e-01, -7.03125000e-02, -2.43164062e-01, -3.66210938e-02,\n",
       "       -7.37304688e-02, -1.77734375e-01,  9.17968750e-02, -1.25000000e-01,\n",
       "       -1.65039062e-01, -3.57421875e-01, -2.85156250e-01, -1.66992188e-01,\n",
       "        1.97265625e-01, -1.53320312e-01,  2.31933594e-02,  2.06054688e-01,\n",
       "        1.80664062e-01, -2.74658203e-02, -1.92382812e-01, -9.61914062e-02,\n",
       "       -1.06811523e-02, -4.73632812e-02,  6.54296875e-02, -1.25732422e-02,\n",
       "        1.78222656e-02, -8.00781250e-02, -2.59765625e-01,  9.37500000e-02,\n",
       "       -7.81250000e-02,  4.68750000e-02, -2.22167969e-02,  1.86767578e-02,\n",
       "        3.11279297e-02,  1.04980469e-02, -1.69921875e-01,  2.58789062e-02,\n",
       "       -3.41796875e-02, -1.44042969e-02, -5.46875000e-02, -8.78906250e-02,\n",
       "        1.96838379e-03,  2.23632812e-01, -1.36718750e-01,  1.75781250e-01,\n",
       "       -1.63085938e-01,  1.87500000e-01,  3.44238281e-02, -5.63964844e-02,\n",
       "       -2.27689743e-05,  4.27246094e-02,  5.81054688e-02, -1.07910156e-01,\n",
       "       -3.88183594e-02, -2.69531250e-01,  3.34472656e-02,  9.81445312e-02,\n",
       "        5.63964844e-02,  2.23632812e-01, -5.49316406e-02,  1.46484375e-01,\n",
       "        5.93261719e-02, -2.19726562e-01,  6.39648438e-02,  1.66015625e-02,\n",
       "        4.56542969e-02,  3.26171875e-01, -3.80859375e-01,  1.70898438e-01,\n",
       "        5.66406250e-02, -1.04492188e-01,  1.38671875e-01, -1.57226562e-01,\n",
       "        3.23486328e-03, -4.80957031e-02, -2.48046875e-01, -6.20117188e-02],\n",
       "      dtype=float32)"
      ]
     },
     "execution_count": 33,
     "metadata": {},
     "output_type": "execute_result"
    }
   ],
   "source": [
    "v1\n"
   ]
  },
  {
   "cell_type": "code",
   "execution_count": 34,
   "id": "ead34048",
   "metadata": {},
   "outputs": [
    {
     "data": {
      "text/plain": [
       "0.3339888"
      ]
     },
     "execution_count": 34,
     "metadata": {},
     "output_type": "execute_result"
    }
   ],
   "source": [
    "model.similarity('computer','calculator')\n"
   ]
  },
  {
   "cell_type": "code",
   "execution_count": 36,
   "id": "683647eb",
   "metadata": {},
   "outputs": [],
   "source": [
    "import numpy as np\n",
    "def cos(v1,v2):\n",
    "    return np.dot(v1,v2) / (np.linalg.norm(v1)*np.linalg.norm(v2))\n",
    "\n"
   ]
  },
  {
   "cell_type": "code",
   "execution_count": 39,
   "id": "a858e549",
   "metadata": {},
   "outputs": [
    {
     "data": {
      "text/plain": [
       "0.33398885"
      ]
     },
     "execution_count": 39,
     "metadata": {},
     "output_type": "execute_result"
    }
   ],
   "source": [
    "cos(model.get_vector('computer'),model.get_vector('calculator'))\n"
   ]
  },
  {
   "cell_type": "code",
   "execution_count": 40,
   "id": "6f9d7f11",
   "metadata": {
    "scrolled": true
   },
   "outputs": [
    {
     "name": "stdout",
     "output_type": "stream",
     "text": [
      "Requirement already satisfied: transformers in /opt/conda/lib/python3.7/site-packages (4.21.0)\n",
      "Requirement already satisfied: requests in /opt/conda/lib/python3.7/site-packages (from transformers) (2.27.1)\n",
      "Requirement already satisfied: huggingface-hub<1.0,>=0.1.0 in /opt/conda/lib/python3.7/site-packages (from transformers) (0.8.1)\n",
      "Requirement already satisfied: importlib-metadata in /opt/conda/lib/python3.7/site-packages (from transformers) (4.11.3)\n",
      "Requirement already satisfied: packaging>=20.0 in /opt/conda/lib/python3.7/site-packages (from transformers) (21.3)\n",
      "Requirement already satisfied: tqdm>=4.27 in /opt/conda/lib/python3.7/site-packages (from transformers) (4.63.0)\n",
      "Requirement already satisfied: filelock in /opt/conda/lib/python3.7/site-packages (from transformers) (3.7.1)\n",
      "Requirement already satisfied: numpy>=1.17 in /opt/conda/lib/python3.7/site-packages (from transformers) (1.21.5)\n",
      "Requirement already satisfied: tokenizers!=0.11.3,<0.13,>=0.11.1 in /opt/conda/lib/python3.7/site-packages (from transformers) (0.12.1)\n",
      "Requirement already satisfied: regex!=2019.12.17 in /opt/conda/lib/python3.7/site-packages (from transformers) (2022.7.25)\n",
      "Requirement already satisfied: pyyaml>=5.1 in /opt/conda/lib/python3.7/site-packages (from transformers) (6.0)\n",
      "Requirement already satisfied: typing-extensions>=3.7.4.3 in /opt/conda/lib/python3.7/site-packages (from huggingface-hub<1.0,>=0.1.0->transformers) (4.1.1)\n",
      "Requirement already satisfied: pyparsing!=3.0.5,>=2.0.2 in /opt/conda/lib/python3.7/site-packages (from packaging>=20.0->transformers) (3.0.7)\n",
      "Requirement already satisfied: zipp>=0.5 in /opt/conda/lib/python3.7/site-packages (from importlib-metadata->transformers) (3.7.0)\n",
      "Requirement already satisfied: urllib3<1.27,>=1.21.1 in /opt/conda/lib/python3.7/site-packages (from requests->transformers) (1.26.8)\n",
      "Requirement already satisfied: certifi>=2017.4.17 in /opt/conda/lib/python3.7/site-packages (from requests->transformers) (2021.10.8)\n",
      "Requirement already satisfied: idna<4,>=2.5 in /opt/conda/lib/python3.7/site-packages (from requests->transformers) (3.3)\n",
      "Requirement already satisfied: charset-normalizer~=2.0.0 in /opt/conda/lib/python3.7/site-packages (from requests->transformers) (2.0.12)\n"
     ]
    }
   ],
   "source": [
    "!pip install transformers\n"
   ]
  },
  {
   "cell_type": "code",
   "execution_count": 41,
   "id": "c1300a97",
   "metadata": {},
   "outputs": [],
   "source": [
    "import tensorflow as tf"
   ]
  },
  {
   "cell_type": "code",
   "execution_count": 42,
   "id": "1a0ca444",
   "metadata": {},
   "outputs": [
    {
     "data": {
      "text/plain": [
       "[PhysicalDevice(name='/physical_device:GPU:0', device_type='GPU')]"
      ]
     },
     "execution_count": 42,
     "metadata": {},
     "output_type": "execute_result"
    }
   ],
   "source": [
    "tf.config.list_physical_devices('GPU') "
   ]
  },
  {
   "cell_type": "code",
   "execution_count": 43,
   "id": "b4f7cec5",
   "metadata": {},
   "outputs": [
    {
     "name": "stdout",
     "output_type": "stream",
     "text": [
      "/home/sourya4/nlp-summer-2022/assignment_4\r\n"
     ]
    }
   ],
   "source": [
    "!pwd"
   ]
  },
  {
   "cell_type": "code",
   "execution_count": 44,
   "id": "64694d21",
   "metadata": {},
   "outputs": [
    {
     "name": "stdout",
     "output_type": "stream",
     "text": [
      "Assignment4.ipynb\t\t       hw4_files\t score.pl\r\n",
      "GoogleNews-vectors-negative300.bin.gz  lexsub_main.py\t smurf.predict\r\n",
      "__pycache__\t\t\t       lexsub_trial.xml  tee\r\n",
      "gold.trial\t\t\t       lexsub_xml.py\r\n"
     ]
    }
   ],
   "source": [
    "!ls"
   ]
  },
  {
   "cell_type": "code",
   "execution_count": 45,
   "id": "b39c2e65",
   "metadata": {},
   "outputs": [],
   "source": [
    "!cd hw4_files"
   ]
  },
  {
   "cell_type": "code",
   "execution_count": 46,
   "id": "e740fe2d",
   "metadata": {},
   "outputs": [
    {
     "name": "stdout",
     "output_type": "stream",
     "text": [
      "/home/sourya4/nlp-summer-2022/assignment_4\r\n"
     ]
    }
   ],
   "source": [
    "!pwd"
   ]
  },
  {
   "cell_type": "code",
   "execution_count": 47,
   "id": "5434a858",
   "metadata": {},
   "outputs": [
    {
     "name": "stdout",
     "output_type": "stream",
     "text": [
      "<Context_1/bright.a During the siege , George Robertson had appointed Shuja-ul-Mulk , who was a *bright* boy only 12 years old and the youngest surviving son of Aman-ul-Mulk , as the ruler of Chitral .>\r\n",
      "<Context_2/bright.a The actual field is not much different than that of a 40mm , only it is smaller and quite a bit noticeably *brighter* , which is probably the main benefit .>\r\n",
      "<Context_3/bright.a The roses have grown out of control , wild and carefree , their *bright* blooming faces turned to bathe in the early autumn sun .>\r\n",
      "<Context_4/bright.a He was *bright* and independent and proud .>\r\n",
      "<Context_5/bright.a In fact , during at least six distinct periods in Army history since World War I , lack of trust and confidence in senior leaders caused the so-called best and *brightest* to leave the Army in droves .>\r\n",
      "<Context_6/bright.a An evening of classical symphonic music , played by the next generation stars in the American orchestral scene , can be savored at the New World Symphony , a special Miami institution that nurtures the best and *brightest* young symphonic musicians .>\r\n",
      "<Context_7/bright.a There are sound reasons for concluding that the long-run picture remains *bright* , and even recent signals about the current course of the economy have turned from unremittingly negative through the late fall of last year to a far more mixed set of signals recently .>\r\n",
      "<Context_8/bright.a Snow covered areas appear *bright* blue in the image which was taken in early spring and shows deep snow cover .>\r\n",
      "<Context_9/bright.a She turns eyes *bright* with excitement towards Fiona , still tugging on the string of the minitiature airship-cum-dance card she has just received at the door .>\r\n",
      "<Context_10/bright.a A short excerpt : I was praying in private until someone got the *bright* idea of starting a Presidential Prayer Team .>\r\n",
      "<Context_11/film.n So , unlike studio films , independent *films* cannot be conceptually geared to a marketing campaign , or used to recruit merchandising tie-ins .>\r\n",
      "<Context_12/film.n The packed screening of about 100 high-level press people loved the *film* as well .>\r\n",
      "<Context_13/film.n I think most filmmakers for the most part right now they’re thinking about the DVD when they go in to production because the reality is DVD is where the great majority of your audience is going to experience the *film* .>\r\n",
      "<Context_14/film.n Dune makes the second Lynch *film* to be released in a consumer HD format ( Mulholland Drive on D-VHS being the first ) .>\r\n",
      "<Context_15/film.n Film Music Literature Cyberplace - Includes *film* reviews , message boards , chat room , and images from various films .>\r\n",
      "<Context_16/film.n His feature *film* debut HEROES / DE ST&#195;&#152;RSTE HELTE ( 1996 ) won awards at Rouen and Madrid .>\r\n",
      "<Context_17/film.n ( Some people keep their TVs on for company. ) In Malta , news is the main reason we turn to TV , followed by *films* , talk shows , documentaries , serials , and music , in that order .>\r\n",
      "<Context_18/film.n The *film* shows Afghan mercenaries to be involved with the separatists , suggesting that the present struggle in Kashmir has been hijacked by foreign extremists , who are shown discussing the loss of Bangladesh in the 1971 war , providing it as a justification for their present acts of revenge .>\r\n",
      "<Context_19/film.n A fine score by George Fenton ( THE CRUCIBLE ) and beautiful photograhy by Roger Pratt add greatly to the effectiveness of the *film* .>\r\n",
      "<Context_20/film.n The success of Autry ' s early *films* was not enough to save Mascot Pictures , which collapsed under the weight of debts held by Consolidated Film Laboratories , which did Mascot 's film processing .>\r\n",
      "<Context_21/take.v That 's not to say the process of actual negotiating is n't *taking* place .>\r\n",
      "<Context_22/take.v \" Hugh Grant and Alan Rickman , as Edward and Col. Brandon respectively , *took* the most chances and the various reviewers therefore either love or hate their performances .>\r\n",
      "<Context_23/take.v It should n't *take* that long .>\r\n",
      "<Context_24/take.v It only affects the start up time of a program , and for a process that *takes* several months ( his code was computing the 196 Palindrome Quest ) , it does not matter if the initialization code takes 1/1,000th of a second or 1/10,000th of a second .>\r\n",
      "<Context_25/take.v If we *take* the factual context in which the term is used into consideration , then its extension becomes limited , owing to the context .>\r\n",
      "<Context_26/take.v If you do n't *take* the risk of dying by driving to the store , your house could collapse on you and kill you anyway .>\r\n",
      "<Context_27/take.v The Governor *took* the big sheets of imitation parchment , glanced over them , signed his name to each , laid down the pen , and handed the papers across the table to Dreier .>\r\n",
      "<Context_28/take.v O'Neill and the two men who worked under his supervision maintained the avenue , raking the thin gravel and removing any weed that tried to *take* root in the stony earth .>\r\n",
      "<Context_29/take.v Even if the Anglo-French Summit did not *take* place until next year , the Prime Minister and President Chirac were still due to see each other in November and December .>\r\n",
      "<Context_30/take.v 40 Day-to-day financial and operational management is the responsibility of the Chief Officer , who *took* up her post in June 2001 .>\r\n",
      "<Context_31/tight.r Anyway , my pants are getting *tight* .>\r\n",
      "<Context_32/tight.r With the physical market has *tight* as it has been in memory , silver could fly at any time .>\r\n",
      "<Context_33/tight.r More ... Specialty coffee market quiet , supplies *tight* Posted at 2:57 PM by Robert Badgett By Bruce Kamich NEW YORK , June 6 ( Reuters ) - Specialty coffee dealers said on Friday that business was unusually quiet with most retailers ' sales numbers down from a year ago , but prices for choice beans remained firm with supplies short until the next crops become available .>\r\n",
      "<Context_34/tight.r If your money is *tight* do n't cut corners .>\r\n",
      "<Context_35/tight.r Each child lies inside an Isolette incubator , a clear acrylic rectangle with ample room for a half-sized premature baby , though the quarters become *tight* for the full-term eight-pounders .>\r\n",
      "<Context_36/tight.r \" It can be intimidating at first , because they wrap their arms pretty *tight* around you , and everything they latch onto is pretty much headed straight to their mouth , \" Schmitz said .>\r\n",
      "<Context_37/tight.r The incisions will feel *tight* for the first 24-48 hours .>\r\n",
      "<Context_38/tight.r Except for the soldiers , Goth was locked up *tight* .>\r\n",
      "<Context_39/tight.r Nathan Robins : Did well to keep *tight* on the Left winger and was harshly judged by the referee on several occasions to have fouled the opposing player when I felt he just out muscled him .>\r\n",
      "<Context_40/tight.r I know that the market is *tight* right now .>\r\n",
      "<Context_41/bar.n That 's not a very high *bar* .>\r\n",
      "<Context_42/bar.n This more upright position is most easily and affordably achieved through slapping a riser bar on your setup , and only requires you to buy a bar instead of a *bar* and stem .>\r\n",
      "<Context_43/bar.n For twelve hours Livewire will be broadcasting live from the blue *bar* of Union House at UEA in an attempt to raise as much money as possible for a very worthy cause .>\r\n",
      "<Context_44/bar.n The British government imposed a colour *bar* in its colonies , so young blacks went in only for law or medicine where they could make a living without government support .>\r\n",
      "<Context_45/bar.n Put granola *bars* in bowl .>\r\n",
      "<Context_46/bar.n It 's been a criticism of IE 's scrollbar CSS and also stands for the status *bar* .>\r\n",
      "<Context_47/bar.n 2 ) Straddling the center bar , your child should be able to keep both feet flat on the ground with about a 1-inch clearance between the crotch and the *bar* .>\r\n",
      "<Context_48/bar.n Seventy-five percent of my clientele that comes in there , they are just like a person on a Friday afternoon going into a *bar* , and he sits at the counter , and the bartender knows what he wants to drink .>\r\n",
      "<Context_49/bar.n The night is long at the numerous other discos and clubs , but for those seeking something more sedate there are quieter , sophisticated *bars* in the hotels .>\r\n",
      "<Context_50/bar.v Abstract : Analysis of contact between two chromosomal races of house mice in northern Italy show that natural selection will produce alleles that *bar* interracial matings if the resulting offspring are unfit hybrids .>\r\n",
      "<Context_51/cross.n When Time magazine 's cover portrays millennium nuts as deranged , crazy Christians holding a *cross* as it did last month , boycott their magazine and the products it advertises .>\r\n",
      "<Context_52/cross.n Four-Set in a *cross* , the points meeting in water surrounded by luminous crescents .>\r\n",
      "<Context_53/cross.n It was designed in the form of a *cross* with a cast iron sword placed where the cross members join .>\r\n",
      "<Context_54/cross.n Triticale , a *cross* between wheat and rye , matures later than rye but earlier than wheat .>\r\n",
      "<Context_55/cross.n Old Nick got tired of cussing , was humiliated at being sat on , and hurting like the torments of Hell for being so close to the *cross* .>\r\n",
      "<Context_56/cross.n By 1924 he managed to transmit across a few feet the flickering image of a Maltese *cross* and on 26th January 1926 he gave the world 's first demonstration of true television in his attic workshop before some fifty scientists .>\r\n",
      "<Context_57/cross.n He appeared to his apostles and spoke to them about God 's kingdom. ' Acts 1:3 Jesus took the consequences of our self-centredness by giving up his life on the *cross* .>\r\n",
      "<Context_58/cross.n If power cycling occurs , care must be taken to account for the \" dead time \" between shutdown and power up when the latchup *cross* section is evaluated .>\r\n",
      "<Context_59/cross.n \" Mixed race people represent a diverse *cross* section of racial , ethnic , and cultural heritages , with many multiracial individuals identifying with multiple communities , \" the organizations stated .>\r\n",
      "<Context_60/cross.a I can only judge keyboards by going into somewhere like PC World and physically trying them , and I do not want to go into somewhere like PC World , as I do not want to get *cross* .>\r\n",
      "<Context_61/finally.r Mr. Hall 's old factory is still on Oklahoma Avenue , but the metal fabrication plant where Mr. Larson worked *finally* closed last year after withering for decades .>\r\n",
      "<Context_62/finally.r None *Finally* , this new rule will also have the effect of encouraging existing corporations to produce safer products , in keeping with the public policy goals that underlie product liability law generally. [ Fn .>\r\n",
      "<Context_63/finally.r However , this easy clearing method has muddled the issue quite a bit , since now Explorer is not actually being cleared at all , while Gecko browsers have *finally* been corrected so they do clear all previous floats .>\r\n",
      "<Context_64/finally.r None *Finally* , Adam sees the ID card being used as an authenticator because it might be declared &#8220;trustworthy&#8221; .>\r\n",
      "<Context_65/finally.r He said , \" OK , first , I 'd like to have a face like Clark Gable , then , I 'd like a build like Arnold Schwarzenegger , and *finally* , I 'd like sexual equipment like this here horse I 'm riding .>\r\n",
      "<Context_66/finally.r None *Finally* , I interviewed Eric Howes , a noted spyware researcher at the University of Illinois , who has found that today 's most popular anti-spyware software packages are far less effective than many believe ( see sidebar , below ) .>\r\n",
      "<Context_67/finally.r However , you will get those NSF fees reimbursed by the bank as well - it will just come when they *finally* process everything together .>\r\n",
      "<Context_68/finally.r None *Finally* , the Army has conducted range characterization activities regarding the potential for contamination from munitions residues at 17 ranges throughout the United States , assessing the different types of ranges used by the Army .>\r\n",
      "<Context_69/finally.r None *Finally* , it is outlined how a mesoscopic theory should be constructed for a particular scanning tunneling microscopy experiment in order to overcome the failure of a corresponding reaction&#150;diffusion model to quantitatively reproduce the experiments .>\r\n",
      "<Context_70/finally.r None *Finally* , the proposed disposal rule would apply to transfer agents registered with the Commission .>\r\n",
      "<Context_71/find.v Up to sixty percent of the fatty acid content in the grasses on the plains contain omega-3 and are *found* in abundance in buffalo allowed to graze on the natural grasses .>\r\n",
      "<Context_72/find.v If you find yourself caught up in negative thoughts and *find* that you suddenly expect the worst it will be impossible to perform at your peak .>\r\n",
      "<Context_73/find.v Search Customer Reviews 9 of 10 people *found* the following review helpful : Early feminist literature - memorable , November 21 , 2000 Reviewer : M. J. Smith ( Seattle , WA USA ) - See all my reviews This book consists of a gem of a story and a mediocre afterward .>\r\n",
      "<Context_74/find.v Well they have a friend named Morgan and Morgan told them to *find* an object that he wants .>\r\n",
      "<Context_75/find.v Consistent with previous findings , lack of congruence was *found* to be a precursor of intrusiveness .>\r\n",
      "<Context_76/find.v nokia mobile phone cases , motorola cell phone cases , motorola cell phone case , body glove cell phone case I think the best place where you can *find* CELL PHONE CARRYING CASE is eBay .>\r\n",
      "<Context_77/find.v Oh , and as far as the Kool-Aid jokes , *find* your own material .>\r\n",
      "<Context_78/find.v But much that we once accepted as inevitable , we now *find* absolutely intolerable .>\r\n",
      "<Context_79/find.v SpeedUpMyPC automatically *finds* the best settings for your PC and carefully controls your system resources to give you the best performance .>\r\n",
      "<Context_80/find.v If Bessler had indeed discovered some mechanical way of creating perpetual motion , perhaps the only way it is explainable is if he had *found* a way of extracting the energy from this Aether .>\r\n",
      "<Context_81/fix.v The Transcendental Meditation people advertised this : \" Meditation can *fix* many sicknesses .>\r\n",
      "<Context_82/fix.v Now , I 'm not sure how I went from missing two weeks to six , but intend to *fix* that as I go .>\r\n",
      "<Context_83/fix.v ' ' I feel I can get a lot more done as a selectman by being innovative and *fixing* the problems we have with cash flows , because they occur every year .>\r\n",
      "<Context_84/fix.v Getting back to the day when doctors looked at the whole person .and did not expect a pill to *fix* the mind .>\r\n",
      "<Context_85/fix.v And thanks to our users , we now have around 30 engines in the database ... New features : - Better layout - Better copy - Small bugs *fixed* Bugs : - ie hell + much more Posted by eric at 05:24 PM | Comments ( 3 ) Investment News As part of the new international expansion strategy 24hdc.com now accepts USD for investments .>\r\n",
      "<Context_86/fix.v Er , tilty. by anna at July 17 , 2003 03:37 PM yeah , in our case , whoever did the foundation fucked up royally. when the house settled , it was fubar. should be pretty easy to *fix* though...just a matter of getting the pilings set to the right heights. by JC at July 17 , 2003 06:32 PM add a comment Name : Email Address : URL : Remember personal info ?>\r\n",
      "<Context_87/fix.v I guess I 'll be able to hit the hot button many times as I 'm always at the dealer getting my car *fixed* .>\r\n",
      "<Context_88/fix.v The long-term problem with Social Security after 2042 could be totally *fixed* by raising the cap on income to a level needed to generate sufficient income to enable the system to continue to pay 100 percent indefinitely .>\r\n",
      "<Context_89/fix.v The only way to *fix* this is for linux to get enough market share to be able to make demands for hardware support. [ reply ] [ top ] [ &#194; &#187; ] Releasing specs is the only answer. by The Nose Who Knows - Feb 26th 2001 04:29:40 &amp;gt; The other reason why vendors do n't support linux &amp;gt; most of the time for commidity hardware such as &amp;gt; webcam is low returns on investments .>\r\n",
      "<Context_90/fix.v But if no prayers can alter your purpose , dear one , husband , if you are so *fixed* on going , take me with you , also !>\r\n",
      "<Context_91/manage.v Suddenly there was a scattering of fire , which three outfielders caught the brunt ; the centerfield was hit and was captured , left and right field *managed* to get back to our lines .>\r\n",
      "<Context_92/manage.v \" C158 ( cf ex R145 ) \" The Provincial in Councilor the Superior ofthe Delegation in Councilsets the financial competency of local Superiorsand their Councilsand determines which assets can be *managed* by individualOblates and by local Superiors and their Councils .>\r\n",
      "<Context_93/manage.v BUSINESS DEVELOPMENT MANAGER STRATEGIC ALLIANCES This individual will be responsible for coordinating , negotiating , launching , and *managing* Accuity 's partner relationships .>\r\n",
      "<Context_94/manage.v A married woman retains ownership of any property she brought to the marriage , but the husband has the right to *manage* the property and to enjoy profits from the property .>\r\n",
      "<Context_95/manage.v We do not need to ask for your specific permission to do these things , as explained below : Treatment Partners health care providers will use and share your health information to provide and *manage* your health care and related services .>\r\n",
      "<Context_96/manage.v According to a White House press release , al-Taqwa and its affiliates \" raise , *manage* , invest , and distribute funds for al-Qaeda ; provide terrorist supporters with internet service and secure telephone communications ; and arrange for the shipment of weapons .>\r\n",
      "<Context_97/manage.v That is , if the average person ( say this is 98 % of people ) amasses 10 things , if I *manage* to acquire 20 things then perhaps my account is not worth twice as much but maybe 10x or 100x as much as average .>\r\n",
      "<Context_98/manage.v There are different types of *managed* care systems .>\r\n",
      "<Context_99/manage.v Saddam Hussein did n't *manage* to defeat the Iranians .>\r\n",
      "<Context_100/manage.v The M107 program is *managed* by the Project Manager Soldier Weapons with engineering support provided by Picatinny&#194;&#146;s Armament Research , Development and Engineering Center .>\r\n",
      "<Context_101/neat.a It is really a *neat* plan , well documented and a model for libraries that are still working on their plans. ~ ~ ~ Corrections to April 2003 issue of LDD On the Road : Some things slipped by when putting together last month&#8217;s issue of LDD On the Road .>\r\n",
      "<Context_102/neat.a And the prize for *neatest* , simplest idea has to go to britkid.org , a resource for opening children 's eyes to the diversity of our culture. www.skoool.com www.nrich.maths.org.uk www.stagework.org.uk www.learningcurve.gov.uk www.britkid.org Email Hotmail is the free email service everyone knows .>\r\n",
      "<Context_103/neat.a Over the course of the 20th century scholars have learned that such images tried to make messy reality *neater* than it really is .>\r\n",
      "<Context_104/neat.a Strong field patterns created by hedgerows give the landscape a *neat* , well structured appearance .>\r\n",
      "<Context_105/neat.a Besides a list of specific things you wish they would talk about , the following things are helpful additions to the *neat* packet you hand them when you ask them to write the letter .>\r\n",
      "<Context_106/neat.a \" -4 Time IROC Champion Mark Martin Indy 500 , CART and IROC champion , Al Unser Jr. said , \" I watched my father and uncle Bobby race in IROC and as a kid I thought it would be really *neat* if someday I would get an opportunity to run IROC .>\r\n",
      "<Context_107/neat.a The Society for Academic Emergency Medicine is a *neat* little bunch of people who are dedicated to furthering the interests of academia and research in the youngest of the medical specialties .>\r\n",
      "<Context_108/neat.a A weblog by Tom Coates who thinks up *neat* stuff for Yahoo !>\r\n",
      "<Context_109/neat.a But not as odd as the 35 others who bedded down with him each night in a *neat* row down the street on a carpet of cardboard boxes and multicoloured raffia beach mats .>\r\n",
      "<Context_110/neat.a Link to the full FEDERAL GOVERNMENT DEBT REPORT with pictures - there are 9 color graphics that tell the whole story - - so , give the next page time to load those *neat* pictures .>\r\n",
      "<Context_111/rich.a What are the important variables that create a *rich* online learning experience , one that makes real improvements in academic practice ?>\r\n",
      "<Context_112/rich.a Trees on Anmyeondo used to be thick and lush to the extent of prompting a saying , Â¡Â°You can become *rich* with an axe.&#194;&#161;&#194;&#177; But now only few trees are left due to reckless deforestation since the time of Korea&#194;&#161;&#194;&#175;s liberation from Japanese colonial rule .>\r\n",
      "<Context_113/rich.a No , we 're not talking about the fortunes of a *rich* and powerful democracy .>\r\n",
      "<Context_114/rich.a Functional Foods and Drinks , Sports Drinks , Slimming , Supplements Functional foods : Glico launches this chocolate *rich* in GABA for its relaxing effect .>\r\n",
      "<Context_115/rich.a Africas central problems in the WTO revolve around the imbalances and biases created by *rich* countries in the Uruguay Round Agreement ( URA ) .>\r\n",
      "<Context_116/rich.a Today half the world 's population lives on less than $ 2 a day , 80 percent of the global population has only 20 percent of global GDP , and within each country there is a massive imbalance between *rich* and poor .>\r\n",
      "<Context_117/rich.a Here Wagner , in depicting every shade of sexual love , developed a style *richer* and more chromatic than anyone had previously attempted , using dissonance and its urge for resolution in a continuing pattem to build up tension and a sense of profound yearning ; Act 2 is virtually a continuous love duet , touching every emotion from the tenderest to the most passionately erotic .>\r\n",
      "<Context_118/rich.a He brings an incredibly *rich* and diverse background that includes everything from executive coaching , learning &amp; development and management consulting , to senior operations roles , mixed with a masters in organizational development .>\r\n",
      "<Context_119/rich.a None *Rich* people manage their money well .>\r\n",
      "<Context_120/rich.a I also think that it will probably take the \" sword \" of nations ( ala Rom 13 ) combined with the good news offered by the body of Christ to touch the hearts and change the ways of the \" rich Africans \" ( and *rich* Americans and other westerners , frankly ) to bring change .>\r\n",
      "<Context_121/severely.r Rubinstein held the gambit pawn with 4.Bf4 and 7.Qd5 , but his neglect of kingside development was *severely* punished .>\r\n",
      "<Context_122/severely.r This veteran , the oldest pensioner in Great Britain , entered the army in 1758 , and was *severely* wounded at the battle of Quebec under General Wolfe , in consequence of which he became an out-pensioner of Chelsea Hospital , and continued so for the period of seventy-five years .>\r\n",
      "<Context_123/severely.r Perhaps the effect of West Nile Virus is sufficient to extinguish endemic birds already *severely* stressed by habitat losses .>\r\n",
      "<Context_124/severely.r She looked as *severely* as she could muster at Draco .>\r\n",
      "<Context_125/severely.r A day before he was due to return to the United States Patton was *severely* injured in a road accident .>\r\n",
      "<Context_126/severely.r Use market tools to address environmental issues , such as eliminating subsidies for industries that *severely* harm the environment , like coal .>\r\n",
      "<Context_127/severely.r This picture was *severely* damaged in the flood of 1913 and has rarely been seen until now .>\r\n",
      "<Context_128/severely.r I was very disappointed when the author did not go into detail about how he regained his faith after having it *severely* undermined by his early studies in theology at university .>\r\n",
      "<Context_129/severely.r We do continue to support research on the differentiation of adult precursor cells into beta cells , but that 's a *severely* limited field in terms of how successful it has been .>\r\n",
      "<Context_130/severely.r Mutual Funds are so *severely* conflicted that they will not avail themselves of the alleged benefits of the proposed rule .>\r\n",
      "<Context_131/stand.v Leaders of some of the most powerful states in the world *stand* by and give the impression that this is just the new way of life for Zimbabweans .>\r\n",
      "<Context_132/stand.v We cannot *stand* as helpless spectators while millions die for want in a world of plenty .>\r\n",
      "<Context_133/stand.v She knew that behind this remarkable new event that had overwhelmed AllahÂs Messenger ( sallallahu Âalayhi wa sallam ) lay something great that Allah ( Subhanahu wa taÂala ) had prepared for His Messenger , so she spoke her kind and sweet words of encouragement , filling him with confidence , tranquility and firm conviction : ÂBe of good cheer , O cousin , and *stand* firm .>\r\n",
      "<Context_134/stand.v Liberals(135)+NDP(19)=154=the usual yapping NDP of no consequence Liberals(135)+Bloc(54)=189=oui the government *stands* or non it falls Do n't count on the Bloc to squander their good fortune like they did the last time they had 54 either .>\r\n",
      "<Context_135/stand.v 1 MCAS *stands* for the Massachusetts Comprehensive Assessment System , a standards test administered to students in grades 3 , 4 , 5 , 6 , 7 , 8 , and 10 throughout the state .>\r\n",
      "<Context_136/stand.v And secondly , the Consensus demonstrated to the World that Africa no longer *stands* on the fridges or sit on the fence when issues likely to have impacts on its economies and its people are being discussed .>\r\n",
      "<Context_137/stand.n Sapling and Pole Stages to Maturity Growth and Yield- Mature northern red oaks are usually from 20 to 30 m ( 65 to 98 ft ) tall and 61 to 91 cm ( 24 to 36 in ) in d.b.h. in undisturbed *stands* on good sites .>\r\n",
      "<Context_138/stand.n The *stand* is not included .>\r\n",
      "<Context_139/stand.n Here , its walnut case has been mounted on an adjustable *stand* to make one of the earliest desk sets .>\r\n",
      "<Context_140/stand.n The denomination essentially voted to take a neutral *stand* on many varying interpretations of Genesis 1. Feedback Letter &gt;From : Stephen Craig Comment : First , let me compliment all of you for a great site .>\r\n",
      "<Context_141/well.r Attorney General 's Page The Connecticut Attorney General 's website includes a discussion of current health topics , including HMOs , Medicare , current Connecticut health legislation , and insurance issues as *well* as information on your rights when it comes to making health care decisions .>\r\n",
      "<Context_142/well.r We needed to plan *well* in advanced to give schools enough warning but not too much choice on times and dates as this seemed to make decisions harder !>\r\n",
      "<Context_143/well.r And be ready to move elsewhere if you are not being treated *well* .>\r\n",
      "<Context_144/well.r Treatment of physical problems , particularly chronic ones , is possible as *well* as psychological therapy .>\r\n",
      "<Context_145/well.r Fades the light ; And afar Goeth day , And the stars Shineth bright , Fare thee *well* ; Day has gone , Night is on .>\r\n",
      "<Context_146/well.r Half the phones , half the computers , half the consumer electronic products we buy are not as *well* made or designed as the other half .>\r\n",
      "<Context_147/well.r None *Well* , perhaps not .>\r\n",
      "<Context_148/well.r Cupertino-based Apple is known for aggressively protecting its intellectual property , as *well* as its image .>\r\n",
      "<Context_149/well.r None *Well* , one of Alf 's intentions when he first conceived the Newsletter was that it should serve as a continuous record of the activities of the Society , and as we all know , the contents of a web page can change or disappear as fast as a bottle of wine at Hogmanay !>\r\n",
      "<Context_150/well.r None *Well* now we have. ' Plain English Campaign is n't stopping there , though .>\r\n",
      "<Context_151/wild.a Modern hunting methods have been introduced , undermining the traditional hunting practices of the local people who have for generations sought to protect and preserve *wild* life .>\r\n",
      "<Context_152/wild.a It is presumed that this is because the level of infection of IHHN virus in the *wild* population is relatively low , and when these wild stocks are held in captivity , the virus quickly spreads from infected broodstock to non-infected broodstock .>\r\n",
      "<Context_153/wild.a Freya , orphaned as a baby and now something of a *wild* spirit , shares her secrets with Danny in their private place on the nearby rocky crags .>\r\n",
      "<Context_154/wild.a These wounds may be from a variety of sources : fish hooks , barbed wire , lawnmowers , traps , tree branches , cats , dogs , bullets , or , even other *wild* animals .>\r\n",
      "<Context_155/wild.a In the Genealogy Section a *wild* story about someone 's Great Great Grandfather !>\r\n",
      "<Context_156/wild.a Now it is the GW doomsayers that ignore similar geological evidence that show *wild* and mini climatic swings throughout the earth&#8217;s history .>\r\n",
      "<Context_157/wild.a Lovely venue ( well as long as you go in for the *wild* wallpaper ) , fantastic sound system , great staff , nice cocktails and a great time had by all .>\r\n",
      "<Context_158/wild.a You 'll accuse me of being off track , and rightly so , but should n't we first ask what solution our dear Islam has provided for satisfying your *wild* God-given instincts , beside suppressing them for years until you get the chance to get married ?>\r\n",
      "<Context_159/wild.a The riverine habitat is extremely beautiful and the chances of seeing large *wild* animals are high .>\r\n",
      "<Context_160/wild.n An endangered species is one that could become extinct in the *wild* in 10 to 20 years , if nothing is done to protect it .>\r\n",
      "<Context_161/can.n • What happened to the big , new garbage *can* at Church and Chambers Streets ?>\r\n",
      "<Context_162/can.n After the coin has been sleeved , there is no hesitation as the *can* apparently covers the coin in the LH .>\r\n",
      "<Context_163/can.n Instead of cleverly tricking Prosser into lying down in the mud , Ford simply distracts the workmen with a shopping trolley full of *cans* of lager which he just happens to have with him .>\r\n",
      "<Context_164/can.n No hazardous materials such as paint , noxious chemicals , solvents , oil , petrol *cans* , gas bottles , tyres , asbestos , vehicle batteries , medical or biological waste .>\r\n",
      "<Context_165/can.n Sources of standing water include old tires , metal *cans* , ceramic pots , clogged drain covers , wading pools , pool covers , bird baths , and rain barrels.&#8221; Visit the CDC West Nile website at http://www.cdc.gov/ncidod/dvbid/westnile / .>\r\n",
      "<Context_166/can.n Q : Do you take steel *cans* at the curbside ?>\r\n",
      "<Context_167/can.n Aluminum & Steel Cans - Rinse aluminum and steel *cans* .>\r\n",
      "<Context_168/can.n Packed the soil itself into huge trash *cans* and in the 14 truckloads , two a day , carried soil to new house .>\r\n",
      "<Context_169/can.n Facilities are available for the recycling of paper , glass , *cans* , textiles , shoes , plastic bottles , cardboard , and oil .>\r\n",
      "<Context_170/can.n Jan replies ... Hi Linda , One cat owner reported , \" We are now back on maintenance dose of 3/4 tablespoon of essiac mixed with one tablespoon of tuna juice ( the spring water from a *can* of tuna ) .>\r\n",
      "<Context_171/dark.n So we all went out to dinner , and I found myself sitting between light and dark , which is where we all are , is n't it , and I kept feeling more attracted to the *dark* .>\r\n",
      "<Context_172/dark.n I think that the work I do is done in the *dark* .>\r\n",
      "<Context_173/dark.n \" One was so in the *dark* as to what they wanted , \" complained Edwin Lutyens , the greatest British architect of the day , \" the site so lovely , the conditions so difficult .>\r\n",
      "<Context_174/dark.n I think overtly making out in public can be kept somewhere in the *dark* .>\r\n",
      "<Context_175/dark.n Conversely , the most successful CEO 's seem to have a knack for finding their way in the *dark* .>\r\n",
      "<Context_176/dark.n So to be \" able to read the handwriting on the wall \" has ever since been a metaphor for being able to see what 's coming , especially when those around you remain in the *dark* .>\r\n",
      "<Context_177/dark.n Go out to get some chow , and they had all slipped away in the *dark* of the night .>\r\n",
      "<Context_178/dark.n Part of it is her unique view of the world , whether walking around the room telling people they are her friends , or riding around in the car after *dark* telling me she wants to &#8220;touch the purple night.&#8221; Part of it is that she has Down syndrome .>\r\n",
      "<Context_179/dark.n Another remarkable subject is \" Reality ( play loud ) \" , the artist embarks in a alucinogeno trip soul simply to demonstrate its vocal capacities , africanismo and the *dark* to us in a threatening atmosphere .>\r\n",
      "<Context_180/dark.n The cells were resuspended in 0.1 % saponin wash and mixed in the *dark* for 1 h. The cells were pelleted and the supernatant was discarded .>\r\n",
      "<Context_181/examination.n However , the *examination* will be detailed if the applicant expressly requests it ( for example , at the same time as filing the Demand ) , or if the applicant files amendments and/or arguments ( for example , in response to the International Search Report , with the Demand or in response to a Written Opinion ; see below ) .>\r\n",
      "<Context_182/examination.n From the previous *examination* last week the auto-immune deficiency could also be excluded .>\r\n",
      "<Context_183/examination.n Readers will appreciate this well-researched *examination* .>\r\n",
      "<Context_184/examination.n As well , he will continue his *examination* of the transatlantic connections that fuelled the slave trade .>\r\n",
      "<Context_185/examination.n The US ranks 37th in a World Health Organization *examination* of the world 's health care systems .>\r\n",
      "<Context_186/examination.n 40 Among studies that found differences in procedure use in sex-discordant pairings , these differences have been seen largely in sex-specific services such as mammography screening , 25 , 35 , 39 prostate examination , 39 and pelvic *examination* or Papanicolaou smear testing , 25 , 35 , 39 selected procedures that may have produced differences in use rates because of their sex-specific nature .>\r\n",
      "<Context_187/examination.n The photograph on the surface does not show a conflict or an irony , but with close *examination* , the punctum &#8212;the element which stands out and punctures the stadium &#8212;becomes apparent .>\r\n",
      "<Context_188/examination.n None *EXAMINATION* QUESTIONS , 1961-1965 Examination Questions , ca 1961-1965 , 30 cm ( c.1 , c.21 ) Examination question papers for various courses arranged alphabetically by subject and session .>\r\n",
      "<Context_189/examination.n Examination leave also includes the mornings of days in which examinations are held in the afternoon as well as the time spent travelling to and from the *examination* centre .>\r\n",
      "<Context_190/examination.n I was given cardiovascular tests , including treadmill stress tests and ultrasound *examinations* of my heart , but apparently , things weren&#194;&#146;t bad enough that I was singled out for consultation .>\r\n",
      "<Context_191/fear.v I *feared* only her car , and she was like a ghost , an apparition haunting the car , only a part of it , not a person .>\r\n",
      "<Context_192/fear.v \" she asked , already *fearing* a negative answer but impressed by the merit of his constructive reply .>\r\n",
      "<Context_193/fear.v He *fears* that she will die while he is gone .>\r\n",
      "<Context_194/fear.v When Esther *fears* to enter the court unsummoned , a capital offense unless the king holds out the golden sceptre , Mordecai says \" Think not with thyself that thou shalt escape in the king 's house , more than all the Jews .>\r\n",
      "<Context_195/fear.v Though the Act was well supported , it also aroused vehement opposition from those who *feared* it would promote the evils it was intended to remedy .>\r\n",
      "<Context_196/fear.v 6th February , 2004 - View article ... Extra Home Threat to Green belt The new targets published last week could force St Albans into sacrificing more Green Belt land than was first *feared* .>\r\n",
      "<Context_197/fear.v Muslim-Americans need to do this bit by bit , word by word , to show our fellow citizens that America has nothing to *fear* from Islam .>\r\n",
      "<Context_198/fear.v Many of those who founded the wargame publishing business *feared* that , with the anti-militarism caused by the Vietnam , and ( later ) with the adoption of the all-volunteer army , American society would become estranged from all things military , leaving ordinary citizens too ignorant to make meaningful democratic judgments where war is concerned .>\r\n",
      "<Context_199/fear.v Genetic engineering and human cloning are not to be *feared* but cherished , as they will liberate humanity from nature .>\r\n",
      "<Context_200/fear.v Nothing , I *fear* , I haven&#8217;t said already .>\r\n",
      "<Context_201/forget.v Do n't *forget* about the revolutionary exercise program and the lifestyle modification program. ) You will also learn , on the topic of diet : How to eliminate those crazy , irresistible cravings forever .>\r\n",
      "<Context_202/forget.v But Mr. SchickeleÂs own music has not been *forgotten* ; his eagerly-awaited Concerto for Viola and Orchestra will receive its world premiere with The Pasadena Symphony and Danielle Farina , viola .>\r\n",
      "<Context_203/forget.v Do n't *forget* to do the quick inventory and again tape it to the outside of the box .>\r\n",
      "<Context_204/forget.v Finally being super christian , I was reminded of the 2nd greatest commandment of all “You shall love your neighbour as yourself’” its easy to *forget* when you losing .>\r\n",
      "<Context_205/forget.v Sometimes you might be out of the office but want to know how your database is doing , sometimes you might be in vacation , sometimes you simply *forgot* to run the script ( we&#194;&#146;re humans ) ... How can you be notified with these details ?>\r\n",
      "<Context_206/forget.v One must not *forget* that the reason why the conflict has become difficult to handle over the years is because it has grown in complexity and become something of a family war .>\r\n",
      "<Context_207/forget.v Since the last issue of Britannia we have at last seen a bit of barrack life and all rumours about the issue of the ' Sennelager Star ' are being *forgotten* .>\r\n",
      "<Context_208/forget.v Someone from the event forwarded me this quote which I had *forgotten* .>\r\n",
      "<Context_209/forget.v Then to top it all off the docs *forgot* to enter the med rates so the oncall doc needed to be called which takes a long time .>\r\n",
      "<Context_210/forget.v Does he *forget* that it was his ministry that issued the final set of licences some three months prior to the collapse of Principal Trust ?>\r\n",
      "<Context_211/gall.n Galls indeed arise from the stinging of the plant tissues by the ovipositors of female gall wasps , and the egg laid in the plant tissues develops inside the gall into a grub , which eventually emerges full-grown and transformed into a mature *gall* wasp .>\r\n",
      "<Context_212/gall.n These include laparoscopic *gall* bladder surgery and reflux disease surgery , non-cardiac thoracoscopic chest surgery , and certain cardiotomy procedures such as mitral valve repair .>\r\n",
      "<Context_213/gall.n \" ( Adams , pp.196-9 ) What arrogance and *gall* it took to write those words and demand that they be spoken by Native tongues .>\r\n",
      "<Context_214/gall.n In the case of my *gall* bladder removal , I was out the next day .>\r\n",
      "<Context_215/gall.n Even *galls* that formed on their trunks were eaten .>\r\n",
      "<Context_216/gall.n Come to my woman 's breasts , And take my milk for *gall* , you murdering ministers , Wherever in your sightless substances You wait on nature 's mischief !>\r\n",
      "<Context_217/gall.n And the morans have the *gall* to ruin Beethoven&#146;s 6th in the process , too .>\r\n",
      "<Context_218/gall.n Etym : From the Gaelic name Dubhghall , from dubh \" black \" + *gall* \" stranger \" .>\r\n",
      "<Context_219/gall.n None *Galls* indeed arise from the stinging of the plant tissues by the ovipositors of female gall wasps , and the egg laid in the plant tissues develops inside the gall into a grub , which eventually emerges full-grown and transformed into a mature gall wasp .>\r\n",
      "<Context_220/gall.n In Boston Magazine 's glowing blurb on Via Matta , it had the extraordinary *gall* to say this : \" Via Matta has unquestionably found its niche with Boston 's it crowd .>\r\n",
      "<Context_221/grim.a \" What is the world to do in the face of these *grim* predictions ?>\r\n",
      "<Context_222/grim.a “He too can only watch in deepening despair as the *grim* work proceeds.&#8221; Looks more like resignation to me , but AudioVision is not interested in letting us make up our own minds. &#8220;Finally , the military police carry the crates away for disposal.&#8221; No , they just take them away .>\r\n",
      "<Context_223/grim.a Id rather go face down , fast , in a plate of chili at 76 than suffer the *grim* attenuations of mental decay and wander off this mortal plane at 78 .>\r\n",
      "<Context_224/grim.a Vincent van Gogh in 1880 was a 27-year-old failure : a despised and rejected clergyman in a *grim* backwater mining town in Belgium .>\r\n",
      "<Context_225/grim.a Hoarding and saving react with *grim* vengeance .>\r\n",
      "<Context_226/grim.a \" Once that *grim* reality had sunk in , Kubrick 's response was an extraordinary tribute to Sellers as an actor : \" We ca n't replace him with another actor , we 've got to get an authentic character from life , someone whose acting career is secondary-a real-life cowboy .>\r\n",
      "<Context_227/grim.a Their trip had been a *grim* struggle with wet pitches , friable rock and bad bolts : they had reached the 1979 limit , but failed to go further .>\r\n",
      "<Context_228/grim.a I 'm concerned that they 're so *grim* and angry .>\r\n",
      "<Context_229/grim.a \" That 's Lawrence Kaplan ' s *grim* verdict from Baghdad .>\r\n",
      "<Context_230/grim.a It started out looking pretty *grim* but we had pretty good rainfall in April and May .>\r\n",
      "<Context_231/lie.v \" Â \" 50 dollars \" , I *lie* .>\r\n",
      "<Context_232/lie.v But in spite of this truth , just as you in the position of aspirants and disciples know much about the Hierarchy , its life , aims and conditioning rules , so do I , a Master of the fifth degree , know much concerning what *lies* ahead of me ; I can therefore endeavor to make some small part of these essential truths clearer to those who can profit by them .>\r\n",
      "<Context_233/lie.v I *lie* down on my futon -bed with a tiny bean-filled pillow under my neck .>\r\n",
      "<Context_234/lie.v For example , suppose that on the return trip from Deneb to Earth the astronauts *lay* down Tube II rather than traveling back in Tube I , the first tube they produced .>\r\n",
      "<Context_235/lie.v What *lies* beneath the amphoras and the muck -- perhaps the ship 's wooden hull , tools , personal items and coins , which would help pinpoint the date of the sinking -- can only be learned by excavation .>\r\n",
      "<Context_236/lie.v \" \" You ca n't *lie* in front of the bulldozer indefinitely \" \" I 'm game ... \" \" Zaphod , you look good .>\r\n",
      "<Context_237/lie.v He went on farther , and in the great hall he saw the whole of the court lying asleep , and up by the throne *lay* the King and Queen .>\r\n",
      "<Context_238/lie.v Grabbed the blaster *lying* on the seat next to her and fired up at him .>\r\n",
      "<Context_239/lie.v Whether itÃ¢ÂÂs lying through omission , *lying* through misdirection , or outright lies , it&#195;&#162;&#194;&#128;&#194;&#153;s awfully hard to extract nuggets of truth from the noise .>\r\n",
      "<Context_240/lie.v You 're naked , lying in your bed surrounded by sex toys , with an empty bottle of lube and a videotape *lying* next to you .>\r\n",
      "<Context_241/nasty.a It is human nature to fight unfairly ; therefore , we need to think in advance and rehearse in advance how to fight fairly , so we wo n't get *nasty* when we get angry .>\r\n",
      "<Context_242/nasty.a He did n't say anything and kept smiling an insincere and *nasty* smile .>\r\n",
      "<Context_243/nasty.a The Mountain : \" Conditions are about to get *nasty* .>\r\n",
      "<Context_244/nasty.a And will probably stay *nasty* during the next administration , no matter who wins .>\r\n",
      "<Context_245/nasty.a The nasty party after all October 10 , leader : Iain Duncan Smith delivered a speech to the 2003 Tory party conference in Blackpool yesterday that was *nasty* , brutish and long .>\r\n",
      "<Context_246/nasty.a \" ( on playing Verdasco ) \" He 's *nasty* .>\r\n",
      "<Context_247/nasty.a Lewis Gilbert’s 1966 misogynistic rake’s progress always depended on the cheek , charm and chutzpah of the Kohl-eyed Caine’s iconic Cockney cocksman to take away the *nasty* taste in one&#8217;s mouth .>\r\n",
      "<Context_248/nasty.a I would like a big , *nasty* , mean , ugly automatic rifle or grenade launcher that I could fire at any car whose alarm blares repeatedly .>\r\n",
      "<Context_249/nasty.a A few years ago , when most monitors used 256 colours , it was important to use the Web Safe palette to avoid *nasty* dithering .>\r\n",
      "<Context_250/nasty.a These programs , called malware , can do *nasty* things like spy on you when you use your PC and allow hackers to access your hard drive .>\r\n",
      "<Context_251/nearly.r \" I 'm glad we made lots of money , though it *nearly* cost the two of you your sanity .>\r\n",
      "<Context_252/nearly.r In the 1997 elections , constitutional nationalism *nearly* lost out to republicanism .>\r\n",
      "<Context_253/nearly.r Fire Lookout Museum 123 W. Westview Spokane , WA 99218 ( 509)466-9171 email : rkresek@webtv.net INTRODUCTION During the summer of 2000 , the Inland Northwest United States experienced a wildfire season *nearly* unprecedented in America .>\r\n",
      "<Context_254/nearly.r HOUSTON , Texas ( CNN ) -- Human remains found in a field in Texas late Saturday are believed to be those of at least one of the seven astronauts who perished aboard space shuttle Columbia when it disintegrated *nearly* 40 miles above the Earth .>\r\n",
      "<Context_255/nearly.r Geographically , the West Bank , then under Jordanian rule and occupation , cut Israel *nearly* in half .>\r\n",
      "<Context_256/nearly.r I had n't *nearly* finished the work at hand .>\r\n",
      "<Context_257/nearly.r Comprised of thousands of small , independent units , the printing industry employs *nearly* 1 million in some 60,000-100,000 plants and accounts for somewhere in the neighborhood of 100 billion dollars in business every single year , while at the same time , contributing to toxic air emissions and solid and chemical waste problems on an ever-growing scale .>\r\n",
      "<Context_258/nearly.r In fact , according to his congressional biography , Murtha was on active duty for six years at most ( 1952-55 and 1966-67 ) ; the rest of the time , including some 16 of his *nearly* 32 years in the House , he was a reservist .>\r\n",
      "<Context_259/nearly.r Semantically , FDR COULD be the cause of the Great Depression if you think , as I do , that the recession wouldn’t have lasted *nearly* as long without all his taxes , price fixing , wage fixing , and regulations .>\r\n",
      "<Context_260/nearly.r In the preceding decade of political struggle , Ms. Bhutto was arrested on numerous occasions ; in all she spent *nearly* 6 years either in prison or under detention for her dedicated leadership of the then opposition Pakistan Peoples Party .>\r\n",
      "<Context_261/outdoor.a \" Our peak is early November , but it has gotten a little later as the years go by , \" said Dave Menke , the U. S. Fish and Wildlife Service 's Klamath Refuge Complex *outdoor* recreation specialist .>\r\n",
      "<Context_262/outdoor.a The goals for the camp include : 1 ) Outdoor experiences 2 ) Social integration ( English and Spanish speakers ) 3 ) Academic learning in the outdoors Students will plan and lead a variety of games and activities including , but not limited to : math lessons , art projects , games , and *outdoor* leadership/teambuilding initiatives .>\r\n",
      "<Context_263/outdoor.a None *Outdoor* Electrical Safety Check Tips For The Safe Outdoor Use Of Electricity ESFi Electrical Safety Foundation International Published as a public service by the Electrical Safety Foundation International in cooperation with the U.S. Consumer Product Safety Commission and the Canada Safety Council .>\r\n",
      "<Context_264/outdoor.a According to John Reichling of Camp , Dresser & McKee , an environmental engineering firm in Cambridge , Mass. , \" shelter in place \" also involves architectural changes such as widening hallways , enlarging rooms , and enclosing *outdoor* hallways .>\r\n",
      "<Context_265/outdoor.a A bridge takes one over into the *outdoor* space that is the heart of the home , the nucleus , held on each side by the three structures that surround it .>\r\n",
      "<Context_266/outdoor.a Work : In a Landscape protected area , making the birds little wooden houses , springs and little rivers cleaning , *outdoor* environmental work .>\r\n",
      "<Context_267/outdoor.a IATSE donated free labor and an *outdoor* sound system .>\r\n",
      "<Context_268/outdoor.a This is about as big as most finecky fine-art photographers require , and even *outdoor* billboards are routinely made from files with less resolution that this .>\r\n",
      "<Context_269/outdoor.a Active children and adults , and people with respiratory disease , such as asthma , should avoid prolonged outdoor exertion ; everyone else , especially children , should limit prolonged *outdoor* exertion .>\r\n",
      "<Context_270/outdoor.a With the growing demand for these fine garden furnishings , they found it necessary to dedicate a portion of their business to *outdoor* living and patio furnishings .>\r\n",
      "<Context_271/reasonable.a Due to China 's economic reliance on trade , balance of payments should be the main factor for judging whether the yuan exchange rate is *reasonable* .>\r\n",
      "<Context_272/reasonable.a Copyright law already addressed the issue in a much more *reasonable* manner .>\r\n",
      "<Context_273/reasonable.a \" What we require now is the co-operation from the Federal Government to provide a flow of mortgage money through CMHC at *reasonable* interest rates and to encourage the conventional loans to be channelled into smaller units so that we may have the opportunity of the best housing and building programme in Canada in 1971 .>\r\n",
      "<Context_274/reasonable.a For *reasonable* people , sure that 'll suffice .>\r\n",
      "<Context_275/reasonable.a Your objective should be to negotiate a contract type and price ( or estimated fee and cost ) that will result in *reasonable* contractor risk and provide the contractor with the greatest incentive for efficient and economical contract performance .>\r\n",
      "<Context_276/reasonable.a And if no exact & safe equilibrium can be introduced , it is more *reasonable* that a preponderating weight shd. be allowed to the greater interest than to the lesser .>\r\n",
      "<Context_277/reasonable.a Besides overseeing the operation of PIPEDA and dealing with complaints , I can conduct audits into organizations ' personal information-handling practices , if we have *reasonable* grounds .>\r\n",
      "<Context_278/reasonable.a The matter of the further evidence may then be heard when the other party has had *reasonable* opportunity to prepare submissions on the matter .>\r\n",
      "<Context_279/reasonable.a This will allow state-licensed health-care providers to utilize safe , non-FDA approved , alternative therapies that have a *reasonable* expectation of therapeutic gain if the patient has been fully informed about the treatment .>\r\n",
      "<Context_280/reasonable.a ( 2 ) In a civil action under subsection ( a ) of this section , the court , in its discretion , may allow the prevailing party , other than the United States , a *reasonable* attorney 's fee and costs .>\r\n",
      "<Context_281/rough.a But I think we can already see from this and other defenses coming from administration officials that the White House 's line on this is filled with clear distortions and misstatements of fact -- most of which are easily identifiable by people who have even a *rough* understanding of the timing and issues involved .>\r\n",
      "<Context_282/rough.a On right there is a steep fall of 10ft. to *rough* grass between 4th and adjacent fairway .>\r\n",
      "<Context_283/rough.a The surface of the keyboard is a *rough* metal ( a wrought iron feel , if you will ) , and two black wooden braces support the frame on either side .>\r\n",
      "<Context_284/rough.a A very *rough* way of gauging your so-called preferred weight is to use the Body Mass Index ( BMI ) .>\r\n",
      "<Context_285/rough.a NOTE : For the aviation and MRF models , the lifted index field is not broadcast so the showalter index ( a *rough* equivalent ) is plotted instead .>\r\n",
      "<Context_286/rough.a None *Rough* estimates show that there are between 75,000 and 100,000 professional speakers in the U.S. alone and when you add trainers the number goes up into the millions .>\r\n",
      "<Context_287/rough.a He was apparently given a *rough* ride by the interviewer , Cathal MacCoille .>\r\n",
      "<Context_288/rough.a Next , the piece went to the \" smoother \" , who went back over all the *rough* cuts with stone wheels called \" craighleiths .>\r\n",
      "<Context_289/rough.a It was a very poor area and Stanway Street was very overcrowded and *rough* .>\r\n",
      "<Context_290/rough.a Col. Berry led again so it was a *rough* job .>\r\n",
      "<Context_291/run.v \" While Washington 's attention focuses on key congressional races and contests for governor , ballot measures have a direct impact on how U.S. society is *run* and often presage future national political debates .>\r\n",
      "<Context_292/run.v No one becomes a teacher until after interning in a *running* school .>\r\n",
      "<Context_293/run.v It ran six to seven pages single spaced ; the calculation for determining how much the farmers would get paid alone *ran* several pages .>\r\n",
      "<Context_294/run.v Chapters from this book by Paul Collins have *run* in McSweeney 's Quarterly Concern .>\r\n",
      "<Context_295/run.v \" DonÂt be afraid to bring in a professional negotiator , someone to *run* a meeting , anyone you need to work through the issues,&#194;&#148; Johnson advises .>\r\n",
      "<Context_296/run.v Anyway here are some static pictures of the boat - it is driven by a brushless motor driving a prop - but when it 's *running* you ca n't see it .>\r\n",
      "<Context_297/run.v Last year , for example , we *ran* 2,659 elections in a median time of 40 days. And , 92.5 % of these elections were run within 56 days. This is quite a remarkable record and we are very proud of it .>\r\n",
      "<Context_298/run.v This is an excellent and important discussion because it *runs* counter to most of the stock talk of the past generation .>\r\n",
      "<Context_299/run.v Rumor has it that Apple is just B4 offering a cheap ( $ 500 ) computer that *runs* the bullet-proof OS-X operating system .>\r\n",
      "<Context_300/run.v \" Why do you *run* from me ?>\r\n"
     ]
    }
   ],
   "source": [
    "!python lexsub_xml.py lexsub_trial.xml"
   ]
  },
  {
   "cell_type": "code",
   "execution_count": 48,
   "id": "712d6ee9",
   "metadata": {},
   "outputs": [],
   "source": [
    "!python lexsub_main.py lexsub_trial.xml >  smurf.predict \n"
   ]
  },
  {
   "cell_type": "code",
   "execution_count": 49,
   "id": "7969b48f",
   "metadata": {},
   "outputs": [
    {
     "name": "stdout",
     "output_type": "stream",
     "text": [
      "bright.a 1 :: smurf\r\n",
      "bright.a 2 :: smurf\r\n",
      "bright.a 3 :: smurf\r\n",
      "bright.a 4 :: smurf\r\n",
      "bright.a 5 :: smurf\r\n",
      "bright.a 6 :: smurf\r\n",
      "bright.a 7 :: smurf\r\n",
      "bright.a 8 :: smurf\r\n",
      "bright.a 9 :: smurf\r\n",
      "bright.a 10 :: smurf\r\n"
     ]
    }
   ],
   "source": [
    "! head smurf.predict"
   ]
  },
  {
   "cell_type": "code",
   "execution_count": 50,
   "id": "1fd4e561",
   "metadata": {},
   "outputs": [
    {
     "name": "stdout",
     "output_type": "stream",
     "text": [
      "Total = 298, attempted = 298\r\n",
      "precision = 0.000, recall = 0.000\r\n",
      "Total with mode 206 attempted 206\r\n",
      "precision = 0.000, recall = 0.000\r\n"
     ]
    }
   ],
   "source": [
    "! perl score.pl smurf.predict gold.trial"
   ]
  },
  {
   "cell_type": "code",
   "execution_count": null,
   "id": "b8ba6298",
   "metadata": {},
   "outputs": [],
   "source": []
  }
 ],
 "metadata": {
  "kernelspec": {
   "display_name": "Python 3",
   "language": "python",
   "name": "python3"
  },
  "language_info": {
   "codemirror_mode": {
    "name": "ipython",
    "version": 3
   },
   "file_extension": ".py",
   "mimetype": "text/x-python",
   "name": "python",
   "nbconvert_exporter": "python",
   "pygments_lexer": "ipython3",
   "version": "3.7.12"
  }
 },
 "nbformat": 4,
 "nbformat_minor": 5
}
